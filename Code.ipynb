{
  "nbformat": 4,
  "nbformat_minor": 0,
  "metadata": {
    "colab": {
      "name": "B19CSE026_NLU_Project_Code.ipynb",
      "provenance": []
    },
    "kernelspec": {
      "name": "python3",
      "display_name": "Python 3"
    },
    "language_info": {
      "name": "python"
    }
  },
  "cells": [
    {
      "cell_type": "code",
      "execution_count": 1,
      "metadata": {
        "id": "ksagjSpasMiL"
      },
      "outputs": [],
      "source": [
        "import re \n",
        "import string \n",
        "import nltk \n",
        "import spacy \n",
        "import pandas as pd \n",
        "import numpy as np \n",
        "import math \n",
        "from tqdm import tqdm \n",
        "\n",
        "from spacy.matcher import Matcher \n",
        "from spacy.tokens import Span \n",
        "from spacy import displacy \n",
        "\n",
        "pd.set_option('display.max_colwidth', 200)"
      ]
    },
    {
      "cell_type": "code",
      "source": [
        "nlp = spacy.load(\"en_core_web_sm\")"
      ],
      "metadata": {
        "id": "oRq-5hm-sQrC"
      },
      "execution_count": 2,
      "outputs": []
    },
    {
      "cell_type": "code",
      "source": [
        "# sample text \n",
        "text = \"GDP in developing countries such as Vietnam will continue growing at a high rate.\" \n",
        "\n",
        "# create a spaCy object \n",
        "doc = nlp(text)"
      ],
      "metadata": {
        "id": "NEQnQ3olsUMA"
      },
      "execution_count": 3,
      "outputs": []
    },
    {
      "cell_type": "code",
      "source": [
        "for tok in doc: \n",
        "  print(tok.text, \"-->\",tok.dep_,\"-->\", tok.pos_)"
      ],
      "metadata": {
        "colab": {
          "base_uri": "https://localhost:8080/"
        },
        "id": "3OFU-6tKsZqk",
        "outputId": "c6b65b7c-d532-4ffc-f1aa-14165c1ed7cb"
      },
      "execution_count": 4,
      "outputs": [
        {
          "output_type": "stream",
          "name": "stdout",
          "text": [
            "GDP --> nsubj --> NOUN\n",
            "in --> prep --> ADP\n",
            "developing --> amod --> VERB\n",
            "countries --> pobj --> NOUN\n",
            "such --> amod --> ADJ\n",
            "as --> prep --> SCONJ\n",
            "Vietnam --> pobj --> PROPN\n",
            "will --> aux --> VERB\n",
            "continue --> ROOT --> VERB\n",
            "growing --> xcomp --> VERB\n",
            "at --> prep --> ADP\n",
            "a --> det --> DET\n",
            "high --> amod --> ADJ\n",
            "rate --> pobj --> NOUN\n",
            ". --> punct --> PUNCT\n"
          ]
        }
      ]
    },
    {
      "cell_type": "code",
      "source": [
        "pattern = [{'POS':'NOUN'}, \n",
        "           {'LOWER': 'such'}, \n",
        "           {'LOWER': 'as'}, \n",
        "           {'POS': 'PROPN'}]"
      ],
      "metadata": {
        "id": "Xkd412pcsv7c"
      },
      "execution_count": 5,
      "outputs": []
    },
    {
      "cell_type": "code",
      "source": [
        "matcher = Matcher(nlp.vocab) \n",
        "matcher.add(\"matching_1\", None, pattern) \n",
        "\n",
        "matches = matcher(doc) \n",
        "span = doc[matches[0][1]:matches[0][2]] \n",
        "\n",
        "print(span.text)"
      ],
      "metadata": {
        "colab": {
          "base_uri": "https://localhost:8080/"
        },
        "id": "fm-5pJDys9Og",
        "outputId": "06b810d7-ab96-43cb-919e-085d531f167c"
      },
      "execution_count": 6,
      "outputs": [
        {
          "output_type": "stream",
          "name": "stdout",
          "text": [
            "countries such as Vietnam\n"
          ]
        }
      ]
    },
    {
      "cell_type": "code",
      "source": [
        "matcher = Matcher(nlp.vocab)\n",
        "\n",
        "#define the pattern\n",
        "pattern = [{'DEP':'amod', 'OP':\"?\"}, # adjectival modifier\n",
        "           {'POS':'NOUN'},\n",
        "           {'LOWER': 'such'},\n",
        "           {'LOWER': 'as'},\n",
        "           {'POS': 'PROPN'}]\n",
        "\n",
        "matcher.add(\"matching_1\", None, pattern)\n",
        "matches = matcher(doc)\n",
        "\n",
        "span = doc[matches[0][1]:matches[0][2]]\n",
        "print(span.text)"
      ],
      "metadata": {
        "colab": {
          "base_uri": "https://localhost:8080/"
        },
        "id": "a8oB-6LytlEe",
        "outputId": "857613dc-e89a-46ca-98e9-f480c31c1334"
      },
      "execution_count": 7,
      "outputs": [
        {
          "output_type": "stream",
          "name": "stdout",
          "text": [
            "developing countries such as Vietnam\n"
          ]
        }
      ]
    },
    {
      "cell_type": "code",
      "source": [
        "\n",
        "text = \"Tableau was recently acquired by Salesforce.\" \n",
        "\n",
        "# Plot the dependency graph \n",
        "doc = nlp(text) \n",
        "displacy.render(doc, style='dep',jupyter=True)"
      ],
      "metadata": {
        "colab": {
          "base_uri": "https://localhost:8080/",
          "height": 422
        },
        "id": "RgmvVmztt_kU",
        "outputId": "69da5105-1a8c-464d-d085-a8d7976e91df"
      },
      "execution_count": 8,
      "outputs": [
        {
          "output_type": "display_data",
          "data": {
            "text/plain": [
              "<IPython.core.display.HTML object>"
            ],
            "text/html": [
              "<span class=\"tex2jax_ignore\"><svg xmlns=\"http://www.w3.org/2000/svg\" xmlns:xlink=\"http://www.w3.org/1999/xlink\" xml:lang=\"en\" id=\"50452da699104f67a08681846b88a8d7-0\" class=\"displacy\" width=\"1100\" height=\"399.5\" direction=\"ltr\" style=\"max-width: none; height: 399.5px; color: #000000; background: #ffffff; font-family: Arial; direction: ltr\">\n",
              "<text class=\"displacy-token\" fill=\"currentColor\" text-anchor=\"middle\" y=\"309.5\">\n",
              "    <tspan class=\"displacy-word\" fill=\"currentColor\" x=\"50\">Tableau</tspan>\n",
              "    <tspan class=\"displacy-tag\" dy=\"2em\" fill=\"currentColor\" x=\"50\">PROPN</tspan>\n",
              "</text>\n",
              "\n",
              "<text class=\"displacy-token\" fill=\"currentColor\" text-anchor=\"middle\" y=\"309.5\">\n",
              "    <tspan class=\"displacy-word\" fill=\"currentColor\" x=\"225\">was</tspan>\n",
              "    <tspan class=\"displacy-tag\" dy=\"2em\" fill=\"currentColor\" x=\"225\">AUX</tspan>\n",
              "</text>\n",
              "\n",
              "<text class=\"displacy-token\" fill=\"currentColor\" text-anchor=\"middle\" y=\"309.5\">\n",
              "    <tspan class=\"displacy-word\" fill=\"currentColor\" x=\"400\">recently</tspan>\n",
              "    <tspan class=\"displacy-tag\" dy=\"2em\" fill=\"currentColor\" x=\"400\">ADV</tspan>\n",
              "</text>\n",
              "\n",
              "<text class=\"displacy-token\" fill=\"currentColor\" text-anchor=\"middle\" y=\"309.5\">\n",
              "    <tspan class=\"displacy-word\" fill=\"currentColor\" x=\"575\">acquired</tspan>\n",
              "    <tspan class=\"displacy-tag\" dy=\"2em\" fill=\"currentColor\" x=\"575\">VERB</tspan>\n",
              "</text>\n",
              "\n",
              "<text class=\"displacy-token\" fill=\"currentColor\" text-anchor=\"middle\" y=\"309.5\">\n",
              "    <tspan class=\"displacy-word\" fill=\"currentColor\" x=\"750\">by</tspan>\n",
              "    <tspan class=\"displacy-tag\" dy=\"2em\" fill=\"currentColor\" x=\"750\">ADP</tspan>\n",
              "</text>\n",
              "\n",
              "<text class=\"displacy-token\" fill=\"currentColor\" text-anchor=\"middle\" y=\"309.5\">\n",
              "    <tspan class=\"displacy-word\" fill=\"currentColor\" x=\"925\">Salesforce.</tspan>\n",
              "    <tspan class=\"displacy-tag\" dy=\"2em\" fill=\"currentColor\" x=\"925\">PROPN</tspan>\n",
              "</text>\n",
              "\n",
              "<g class=\"displacy-arrow\">\n",
              "    <path class=\"displacy-arc\" id=\"arrow-50452da699104f67a08681846b88a8d7-0-0\" stroke-width=\"2px\" d=\"M70,264.5 C70,2.0 575.0,2.0 575.0,264.5\" fill=\"none\" stroke=\"currentColor\"/>\n",
              "    <text dy=\"1.25em\" style=\"font-size: 0.8em; letter-spacing: 1px\">\n",
              "        <textPath xlink:href=\"#arrow-50452da699104f67a08681846b88a8d7-0-0\" class=\"displacy-label\" startOffset=\"50%\" side=\"left\" fill=\"currentColor\" text-anchor=\"middle\">nsubjpass</textPath>\n",
              "    </text>\n",
              "    <path class=\"displacy-arrowhead\" d=\"M70,266.5 L62,254.5 78,254.5\" fill=\"currentColor\"/>\n",
              "</g>\n",
              "\n",
              "<g class=\"displacy-arrow\">\n",
              "    <path class=\"displacy-arc\" id=\"arrow-50452da699104f67a08681846b88a8d7-0-1\" stroke-width=\"2px\" d=\"M245,264.5 C245,89.5 570.0,89.5 570.0,264.5\" fill=\"none\" stroke=\"currentColor\"/>\n",
              "    <text dy=\"1.25em\" style=\"font-size: 0.8em; letter-spacing: 1px\">\n",
              "        <textPath xlink:href=\"#arrow-50452da699104f67a08681846b88a8d7-0-1\" class=\"displacy-label\" startOffset=\"50%\" side=\"left\" fill=\"currentColor\" text-anchor=\"middle\">auxpass</textPath>\n",
              "    </text>\n",
              "    <path class=\"displacy-arrowhead\" d=\"M245,266.5 L237,254.5 253,254.5\" fill=\"currentColor\"/>\n",
              "</g>\n",
              "\n",
              "<g class=\"displacy-arrow\">\n",
              "    <path class=\"displacy-arc\" id=\"arrow-50452da699104f67a08681846b88a8d7-0-2\" stroke-width=\"2px\" d=\"M420,264.5 C420,177.0 565.0,177.0 565.0,264.5\" fill=\"none\" stroke=\"currentColor\"/>\n",
              "    <text dy=\"1.25em\" style=\"font-size: 0.8em; letter-spacing: 1px\">\n",
              "        <textPath xlink:href=\"#arrow-50452da699104f67a08681846b88a8d7-0-2\" class=\"displacy-label\" startOffset=\"50%\" side=\"left\" fill=\"currentColor\" text-anchor=\"middle\">advmod</textPath>\n",
              "    </text>\n",
              "    <path class=\"displacy-arrowhead\" d=\"M420,266.5 L412,254.5 428,254.5\" fill=\"currentColor\"/>\n",
              "</g>\n",
              "\n",
              "<g class=\"displacy-arrow\">\n",
              "    <path class=\"displacy-arc\" id=\"arrow-50452da699104f67a08681846b88a8d7-0-3\" stroke-width=\"2px\" d=\"M595,264.5 C595,177.0 740.0,177.0 740.0,264.5\" fill=\"none\" stroke=\"currentColor\"/>\n",
              "    <text dy=\"1.25em\" style=\"font-size: 0.8em; letter-spacing: 1px\">\n",
              "        <textPath xlink:href=\"#arrow-50452da699104f67a08681846b88a8d7-0-3\" class=\"displacy-label\" startOffset=\"50%\" side=\"left\" fill=\"currentColor\" text-anchor=\"middle\">agent</textPath>\n",
              "    </text>\n",
              "    <path class=\"displacy-arrowhead\" d=\"M740.0,266.5 L748.0,254.5 732.0,254.5\" fill=\"currentColor\"/>\n",
              "</g>\n",
              "\n",
              "<g class=\"displacy-arrow\">\n",
              "    <path class=\"displacy-arc\" id=\"arrow-50452da699104f67a08681846b88a8d7-0-4\" stroke-width=\"2px\" d=\"M770,264.5 C770,177.0 915.0,177.0 915.0,264.5\" fill=\"none\" stroke=\"currentColor\"/>\n",
              "    <text dy=\"1.25em\" style=\"font-size: 0.8em; letter-spacing: 1px\">\n",
              "        <textPath xlink:href=\"#arrow-50452da699104f67a08681846b88a8d7-0-4\" class=\"displacy-label\" startOffset=\"50%\" side=\"left\" fill=\"currentColor\" text-anchor=\"middle\">pobj</textPath>\n",
              "    </text>\n",
              "    <path class=\"displacy-arrowhead\" d=\"M915.0,266.5 L923.0,254.5 907.0,254.5\" fill=\"currentColor\"/>\n",
              "</g>\n",
              "</svg></span>"
            ]
          },
          "metadata": {}
        }
      ]
    },
    {
      "cell_type": "code",
      "source": [
        "text = \"Tableau was recently acquired by Salesforce.\" \n",
        "doc = nlp(text) \n",
        "\n",
        "for tok in doc: \n",
        "  print(tok.text,\"-->\",tok.dep_,\"-->\",tok.pos_)"
      ],
      "metadata": {
        "colab": {
          "base_uri": "https://localhost:8080/"
        },
        "id": "2sdFw8yduhZq",
        "outputId": "385fde25-db9e-46a5-ae16-13b38a21cab5"
      },
      "execution_count": 9,
      "outputs": [
        {
          "output_type": "stream",
          "name": "stdout",
          "text": [
            "Tableau --> nsubjpass --> PROPN\n",
            "was --> auxpass --> AUX\n",
            "recently --> advmod --> ADV\n",
            "acquired --> ROOT --> VERB\n",
            "by --> agent --> ADP\n",
            "Salesforce --> pobj --> PROPN\n",
            ". --> punct --> PUNCT\n"
          ]
        }
      ]
    },
    {
      "cell_type": "code",
      "source": [
        "\n",
        "def subtree_matcher(doc): \n",
        "  x = '' \n",
        "  y = '' \n",
        "  \n",
        "  # iterate through all the tokens in the input sentence \n",
        "  for i,tok in enumerate(doc): \n",
        "    # extract subject \n",
        "    if tok.dep_.find(\"subjpass\") == True: \n",
        "      y = tok.text \n",
        "      \n",
        "    # extract object \n",
        "    if tok.dep_.endswith(\"obj\") == True: \n",
        "      x = tok.text \n",
        "      \n",
        "  return x,y"
      ],
      "metadata": {
        "id": "mAx8HbH6vCfr"
      },
      "execution_count": 10,
      "outputs": []
    },
    {
      "cell_type": "code",
      "source": [
        "subtree_matcher(doc)"
      ],
      "metadata": {
        "colab": {
          "base_uri": "https://localhost:8080/"
        },
        "id": "XBwqlls4vYxk",
        "outputId": "44228ed7-bbd7-4177-cc08-76b89f8cecd2"
      },
      "execution_count": 11,
      "outputs": [
        {
          "output_type": "execute_result",
          "data": {
            "text/plain": [
              "('Salesforce', 'Tableau')"
            ]
          },
          "metadata": {},
          "execution_count": 11
        }
      ]
    },
    {
      "cell_type": "code",
      "source": [
        "\n",
        "text_2 = \"Careem, a ride hailing major in middle east, was acquired by Uber.\" \n",
        "\n",
        "doc_2 = nlp(text_2) \n",
        "subtree_matcher(doc_2)"
      ],
      "metadata": {
        "colab": {
          "base_uri": "https://localhost:8080/"
        },
        "id": "jMms35Rrvl1W",
        "outputId": "0ac5f768-7374-427d-82a1-988a98841519"
      },
      "execution_count": 12,
      "outputs": [
        {
          "output_type": "execute_result",
          "data": {
            "text/plain": [
              "('Uber', 'Careem')"
            ]
          },
          "metadata": {},
          "execution_count": 12
        }
      ]
    },
    {
      "cell_type": "code",
      "source": [
        "text_3 = \"Salesforce recently acquired Tableau.\" \n",
        "doc_3 = nlp(text_3) \n",
        "subtree_matcher(doc_3)"
      ],
      "metadata": {
        "colab": {
          "base_uri": "https://localhost:8080/"
        },
        "id": "UyVp2Yhjvqyl",
        "outputId": "24e9a9cb-508f-476d-f8dd-5966cf26fc60"
      },
      "execution_count": 13,
      "outputs": [
        {
          "output_type": "execute_result",
          "data": {
            "text/plain": [
              "('Tableau', '')"
            ]
          },
          "metadata": {},
          "execution_count": 13
        }
      ]
    },
    {
      "cell_type": "code",
      "source": [
        "for tok in doc_3:    \n",
        "  print(tok.text, \"-->\",tok.dep_, \"-->\",tok.pos_)"
      ],
      "metadata": {
        "colab": {
          "base_uri": "https://localhost:8080/"
        },
        "id": "UlBYSVJWwA3R",
        "outputId": "96ac8870-18b8-4eff-a306-a566331f287a"
      },
      "execution_count": 14,
      "outputs": [
        {
          "output_type": "stream",
          "name": "stdout",
          "text": [
            "Salesforce --> nsubj --> NOUN\n",
            "recently --> advmod --> ADV\n",
            "acquired --> ROOT --> VERB\n",
            "Tableau --> dobj --> PROPN\n",
            ". --> punct --> PUNCT\n"
          ]
        }
      ]
    },
    {
      "cell_type": "code",
      "source": [
        "displacy.render(doc_3, style='dep',jupyter=True)"
      ],
      "metadata": {
        "colab": {
          "base_uri": "https://localhost:8080/",
          "height": 334
        },
        "id": "pRpYB97wwHF7",
        "outputId": "97926657-144f-4936-b457-e1e184cc3674"
      },
      "execution_count": 15,
      "outputs": [
        {
          "output_type": "display_data",
          "data": {
            "text/plain": [
              "<IPython.core.display.HTML object>"
            ],
            "text/html": [
              "<span class=\"tex2jax_ignore\"><svg xmlns=\"http://www.w3.org/2000/svg\" xmlns:xlink=\"http://www.w3.org/1999/xlink\" xml:lang=\"en\" id=\"8da711c69a4b473c8f118729feda8ae4-0\" class=\"displacy\" width=\"750\" height=\"312.0\" direction=\"ltr\" style=\"max-width: none; height: 312.0px; color: #000000; background: #ffffff; font-family: Arial; direction: ltr\">\n",
              "<text class=\"displacy-token\" fill=\"currentColor\" text-anchor=\"middle\" y=\"222.0\">\n",
              "    <tspan class=\"displacy-word\" fill=\"currentColor\" x=\"50\">Salesforce</tspan>\n",
              "    <tspan class=\"displacy-tag\" dy=\"2em\" fill=\"currentColor\" x=\"50\">NOUN</tspan>\n",
              "</text>\n",
              "\n",
              "<text class=\"displacy-token\" fill=\"currentColor\" text-anchor=\"middle\" y=\"222.0\">\n",
              "    <tspan class=\"displacy-word\" fill=\"currentColor\" x=\"225\">recently</tspan>\n",
              "    <tspan class=\"displacy-tag\" dy=\"2em\" fill=\"currentColor\" x=\"225\">ADV</tspan>\n",
              "</text>\n",
              "\n",
              "<text class=\"displacy-token\" fill=\"currentColor\" text-anchor=\"middle\" y=\"222.0\">\n",
              "    <tspan class=\"displacy-word\" fill=\"currentColor\" x=\"400\">acquired</tspan>\n",
              "    <tspan class=\"displacy-tag\" dy=\"2em\" fill=\"currentColor\" x=\"400\">VERB</tspan>\n",
              "</text>\n",
              "\n",
              "<text class=\"displacy-token\" fill=\"currentColor\" text-anchor=\"middle\" y=\"222.0\">\n",
              "    <tspan class=\"displacy-word\" fill=\"currentColor\" x=\"575\">Tableau.</tspan>\n",
              "    <tspan class=\"displacy-tag\" dy=\"2em\" fill=\"currentColor\" x=\"575\">PROPN</tspan>\n",
              "</text>\n",
              "\n",
              "<g class=\"displacy-arrow\">\n",
              "    <path class=\"displacy-arc\" id=\"arrow-8da711c69a4b473c8f118729feda8ae4-0-0\" stroke-width=\"2px\" d=\"M70,177.0 C70,2.0 400.0,2.0 400.0,177.0\" fill=\"none\" stroke=\"currentColor\"/>\n",
              "    <text dy=\"1.25em\" style=\"font-size: 0.8em; letter-spacing: 1px\">\n",
              "        <textPath xlink:href=\"#arrow-8da711c69a4b473c8f118729feda8ae4-0-0\" class=\"displacy-label\" startOffset=\"50%\" side=\"left\" fill=\"currentColor\" text-anchor=\"middle\">nsubj</textPath>\n",
              "    </text>\n",
              "    <path class=\"displacy-arrowhead\" d=\"M70,179.0 L62,167.0 78,167.0\" fill=\"currentColor\"/>\n",
              "</g>\n",
              "\n",
              "<g class=\"displacy-arrow\">\n",
              "    <path class=\"displacy-arc\" id=\"arrow-8da711c69a4b473c8f118729feda8ae4-0-1\" stroke-width=\"2px\" d=\"M245,177.0 C245,89.5 395.0,89.5 395.0,177.0\" fill=\"none\" stroke=\"currentColor\"/>\n",
              "    <text dy=\"1.25em\" style=\"font-size: 0.8em; letter-spacing: 1px\">\n",
              "        <textPath xlink:href=\"#arrow-8da711c69a4b473c8f118729feda8ae4-0-1\" class=\"displacy-label\" startOffset=\"50%\" side=\"left\" fill=\"currentColor\" text-anchor=\"middle\">advmod</textPath>\n",
              "    </text>\n",
              "    <path class=\"displacy-arrowhead\" d=\"M245,179.0 L237,167.0 253,167.0\" fill=\"currentColor\"/>\n",
              "</g>\n",
              "\n",
              "<g class=\"displacy-arrow\">\n",
              "    <path class=\"displacy-arc\" id=\"arrow-8da711c69a4b473c8f118729feda8ae4-0-2\" stroke-width=\"2px\" d=\"M420,177.0 C420,89.5 570.0,89.5 570.0,177.0\" fill=\"none\" stroke=\"currentColor\"/>\n",
              "    <text dy=\"1.25em\" style=\"font-size: 0.8em; letter-spacing: 1px\">\n",
              "        <textPath xlink:href=\"#arrow-8da711c69a4b473c8f118729feda8ae4-0-2\" class=\"displacy-label\" startOffset=\"50%\" side=\"left\" fill=\"currentColor\" text-anchor=\"middle\">dobj</textPath>\n",
              "    </text>\n",
              "    <path class=\"displacy-arrowhead\" d=\"M570.0,179.0 L578.0,167.0 562.0,167.0\" fill=\"currentColor\"/>\n",
              "</g>\n",
              "</svg></span>"
            ]
          },
          "metadata": {}
        }
      ]
    },
    {
      "cell_type": "code",
      "source": [
        "def new_subtree_matcher(doc):\n",
        "  subjpass = 0\n",
        "\n",
        "  for i,tok in enumerate(doc):\n",
        "    # find dependency tag that contains the text \"subjpass\"    \n",
        "    if tok.dep_.find(\"subjpass\") == True:\n",
        "      subjpass = 1\n",
        "\n",
        "  x = ''\n",
        "  y = ''\n",
        "  z = ''\n",
        "\n",
        "  # if subjpass == 1 then sentence is passive\n",
        "  if subjpass == 1:\n",
        "    for i,tok in enumerate(doc):\n",
        "      if tok.dep_.find(\"subjpass\") == True:\n",
        "        y = tok.text\n",
        "\n",
        "      if tok.dep_.endswith(\"obj\") == True:\n",
        "        x = tok.text\n",
        "      \n",
        "      if tok.dep_.endswith(\"ROOT\") == True:\n",
        "        z = tok.text\n",
        "  \n",
        "  # if subjpass == 0 then sentence is not passive\n",
        "  else:\n",
        "    for i,tok in enumerate(doc):\n",
        "      if tok.dep_.endswith(\"subj\") == True:\n",
        "        x = tok.text\n",
        "\n",
        "      if tok.dep_.endswith(\"obj\") == True:\n",
        "        y = tok.text\n",
        "      \n",
        "      if tok.dep_.endswith(\"ROOT\") == True:\n",
        "        z = tok.text\n",
        "\n",
        "  return x,z,y"
      ],
      "metadata": {
        "id": "UgHfSGn8wMN6"
      },
      "execution_count": 16,
      "outputs": []
    },
    {
      "cell_type": "code",
      "source": [
        "new_subtree_matcher(doc_3)"
      ],
      "metadata": {
        "colab": {
          "base_uri": "https://localhost:8080/"
        },
        "id": "G8BUJkGIwrQ3",
        "outputId": "87e46104-4d68-499c-c1c5-84aadab22a3a"
      },
      "execution_count": 17,
      "outputs": [
        {
          "output_type": "execute_result",
          "data": {
            "text/plain": [
              "('Salesforce', 'acquired', 'Tableau')"
            ]
          },
          "metadata": {},
          "execution_count": 17
        }
      ]
    },
    {
      "cell_type": "code",
      "source": [
        "new_subtree_matcher(nlp(\"Tableau was recently acquired by Salesforce.\"))"
      ],
      "metadata": {
        "id": "zq01LSDrwybL",
        "outputId": "773a4a8f-5f13-4614-b93c-b6ec4c60e58a",
        "colab": {
          "base_uri": "https://localhost:8080/"
        }
      },
      "execution_count": 18,
      "outputs": [
        {
          "output_type": "execute_result",
          "data": {
            "text/plain": [
              "('Salesforce', 'acquired', 'Tableau')"
            ]
          },
          "metadata": {},
          "execution_count": 18
        }
      ]
    },
    {
      "cell_type": "code",
      "source": [
        "new_subtree_matcher(nlp(\"Chirag is staying at Taj.\"))"
      ],
      "metadata": {
        "colab": {
          "base_uri": "https://localhost:8080/"
        },
        "id": "ZAAYPzl92erg",
        "outputId": "df36b5b4-e44b-42d0-8bc5-a36627a8df5b"
      },
      "execution_count": 19,
      "outputs": [
        {
          "output_type": "execute_result",
          "data": {
            "text/plain": [
              "('Chirag', 'staying', 'Taj')"
            ]
          },
          "metadata": {},
          "execution_count": 19
        }
      ]
    },
    {
      "cell_type": "code",
      "source": [
        "from spacy.lemmatizer import Lemmatizer\n",
        "lemmatizer = nlp.vocab.morphology.lemmatizer\n",
        "\n",
        "def new_subtree_matcher1(doc1):\n",
        "  #pos_ents = [\"DATE\", \"LOC\", \"ORG\", \"GPE\"]\n",
        "  pos_words = [\"born\",\"bear\", \"live\", \"locate\", \"situate\", \"establish\", \"residence\", \"resident\", \"reside\", \"birthplace\", \"national\", \"countryman\",\n",
        "               \"citizen\", \"employee\", \"work\", \"job\", \"do\", \"educate\", \"study\"]\n",
        "\n",
        "  doc = nlp(doc1)\n",
        "\n",
        "  # ents = dict()\n",
        "  # for e in doc.ents:\n",
        "  #   if e.text not in ents:\n",
        "  #     ents[e.text] = e.label_\n",
        "\n",
        "  subjpass = 0\n",
        "\n",
        "  for i,tok in enumerate(doc):\n",
        "    # find dependency tag that contains the text \"subjpass\"    \n",
        "    if tok.dep_.find(\"subjpass\") == True:\n",
        "      subjpass = 1\n",
        "\n",
        "  x = ''\n",
        "  flag_x = False\n",
        "  y = ''\n",
        "  flag_y = False\n",
        "  z = ''\n",
        "  flag_z = False\n",
        "  lemma_z = ''\n",
        "\n",
        "  # if subjpass == 1 then sentence is passive\n",
        "  if subjpass == 1:\n",
        "    for i,tok in enumerate(doc):\n",
        "      if tok.dep_.find(\"subjpass\") == True:\n",
        "        if flag_y == False:\n",
        "          y = tok.text\n",
        "          flag_y = True\n",
        "        else:\n",
        "          y+=tok.text\n",
        "          flag_y = False\n",
        "      else:\n",
        "        flag_y = False\n",
        "\n",
        "      if tok.dep_.endswith(\"obj\") == True:\n",
        "        if flag_x == False:\n",
        "          x = tok.text\n",
        "          flag_x = True\n",
        "        else:\n",
        "          x+=tok.text\n",
        "          flag_x = False\n",
        "      else:\n",
        "        flag_x = False\n",
        "      \n",
        "      if tok.dep_.endswith(\"ROOT\") == True:\n",
        "        z = tok.text\n",
        "        lemma_z = lemmatizer(z, tok.pos_)[0]\n",
        "  \n",
        "  # if subjpass == 0 then sentence is not passive\n",
        "  else:\n",
        "    for i,tok in enumerate(doc):\n",
        "      if tok.dep_.endswith(\"subj\") == True:\n",
        "        if flag_x == False:\n",
        "          x = tok.text\n",
        "          flag_x = True\n",
        "        else:\n",
        "          x+=tok.text\n",
        "          flag_x = False\n",
        "      else:\n",
        "        flag_x = False\n",
        "\n",
        "      if tok.dep_.endswith(\"obj\") == True:\n",
        "        if flag_y == False:\n",
        "          y = tok.text\n",
        "          flag_y = True\n",
        "        else:\n",
        "          y+=tok.text\n",
        "          flag_y = False\n",
        "      else:\n",
        "        flag_y = False\n",
        "      \n",
        "      if tok.dep_.endswith(\"ROOT\") == True:\n",
        "        z = tok.text\n",
        "        lemma_z = lemmatizer(z, tok.pos_)[0]\n",
        "  \n",
        "  #if x in ents and y in ents:\n",
        "    #if (ents[x] == \"PERSON\" and ents[y] in pos_ents) or (ents[y] == \"PERSON\" and ents[x] in pos_ents):\n",
        "  if lemma_z in pos_words:\n",
        "    if x!='' and y!='' and z!='':\n",
        "      return x,z,y\n",
        "  return '','',''"
      ],
      "metadata": {
        "id": "reIV_K7Mb3me"
      },
      "execution_count": 20,
      "outputs": []
    },
    {
      "cell_type": "code",
      "source": [
        "new_subtree_matcher1(\"Rahul is studying in IITJ\")"
      ],
      "metadata": {
        "colab": {
          "base_uri": "https://localhost:8080/"
        },
        "id": "vnt4TlVmfSom",
        "outputId": "dda927f3-7015-4120-cd79-3f73b4d86227"
      },
      "execution_count": 21,
      "outputs": [
        {
          "output_type": "execute_result",
          "data": {
            "text/plain": [
              "('Rahul', 'studying', 'IITJ')"
            ]
          },
          "metadata": {},
          "execution_count": 21
        }
      ]
    },
    {
      "cell_type": "code",
      "source": [
        "from google.colab import drive\n",
        "drive.mount(\"/content/drive\")"
      ],
      "metadata": {
        "colab": {
          "base_uri": "https://localhost:8080/"
        },
        "id": "w_l8cjShqqU3",
        "outputId": "ae766df6-0ba5-458f-f9f8-a7b1039ed96c"
      },
      "execution_count": 22,
      "outputs": [
        {
          "output_type": "stream",
          "name": "stdout",
          "text": [
            "Mounted at /content/drive\n"
          ]
        }
      ]
    },
    {
      "cell_type": "code",
      "source": [
        "path = \"/content/drive/MyDrive/NLU_Project/train.json\""
      ],
      "metadata": {
        "id": "H6lkf85lr-1S"
      },
      "execution_count": 23,
      "outputs": []
    },
    {
      "cell_type": "code",
      "source": [
        "file = open(path)\n",
        "data = file.read()\n",
        "file.close()"
      ],
      "metadata": {
        "id": "XLhbSmRCsDfS"
      },
      "execution_count": 24,
      "outputs": []
    },
    {
      "cell_type": "code",
      "source": [
        "import json\n",
        "data1 = []\n",
        "decoder = json.JSONDecoder()\n",
        "while data:\n",
        "    value, new_start = decoder.raw_decode(data)\n",
        "    data = data[new_start:].strip()\n",
        "    data1.append(value)"
      ],
      "metadata": {
        "id": "Fbo3Sfo3sG_S"
      },
      "execution_count": 25,
      "outputs": []
    },
    {
      "cell_type": "code",
      "source": [
        "data1[0]"
      ],
      "metadata": {
        "colab": {
          "base_uri": "https://localhost:8080/"
        },
        "id": "rQAR-GChsJVj",
        "outputId": "80127aad-0baf-4ef8-8cf2-b7fa2c8fd569"
      },
      "execution_count": 26,
      "outputs": [
        {
          "output_type": "execute_result",
          "data": {
            "text/plain": [
              "{'documentId': '13205',\n",
              " 'documentText': \"Documents Assist\\n\\nFlorida Cheap Divorce - Simple Divorce $280 flat fee - No Court Divorce\\nEstablished in 2006.\\nAfter a few years working as an Independent Associate of Legal Shield, formerly known as Pre-Paid Legal, Yamil Fuentes made it her mission to help her clients take advantage of their access to the legal system. After going through her own personal divorce she realized there was a need of affordable divorce services in the State of Florida.\\nWhen she founded Apex Legal Document Preparation Services she became a Premium Member of the FALDP (Florida Association of Legal Document Preparers) and educated herself on the different types of divorce been offered across the State of Florida and learned from the best in the industry of legal document preparation services.\\nThrough her membership she embarked on a journey to learn how to make the divorce process as easy as possible for her clients, making her company the most sought after divorce preparer in Florida touting the following service 'Express Divorce - 30 Days with No Court Hearing'.\\nApex has now divorced hundreds of people.\\nPassionate about divorcing people in the quickest and less painful manner. She has mastered the art of preparing any type of divorce in the State of Florida. Many of her clients are in the South Florida area but she is not limited to these clients.\",\n",
              " 'fold': 3,\n",
              " 'passages': [{'exhaustivelyAnnotatedProperties': [{'propertyDescription': 'Describes the relationship between a person and the institution where she/he studied.',\n",
              "     'propertyId': '9',\n",
              "     'propertyName': 'EDUCATED_AT'}],\n",
              "   'facts': [],\n",
              "   'passageEnd': 779,\n",
              "   'passageId': '13205:453:779',\n",
              "   'passageStart': 453,\n",
              "   'passageText': 'When she founded Apex Legal Document Preparation Services she became a Premium Member of the FALDP (Florida Association of Legal Document Preparers) and educated herself on the different types of divorce been offered across the State of Florida and learned from the best in the industry of legal document preparation services.'}],\n",
              " 'source': 'Diffbot Knowledge Graph'}"
            ]
          },
          "metadata": {},
          "execution_count": 26
        }
      ]
    },
    {
      "cell_type": "code",
      "source": [
        "paras = []\n",
        "for doc in data1:\n",
        "  paras.append(doc['documentText'])\n",
        "paras[0]"
      ],
      "metadata": {
        "colab": {
          "base_uri": "https://localhost:8080/",
          "height": 122
        },
        "id": "fp26uIBAsMGF",
        "outputId": "0c84c9d0-e3d9-4163-f361-988caeb7222e"
      },
      "execution_count": 27,
      "outputs": [
        {
          "output_type": "execute_result",
          "data": {
            "text/plain": [
              "\"Documents Assist\\n\\nFlorida Cheap Divorce - Simple Divorce $280 flat fee - No Court Divorce\\nEstablished in 2006.\\nAfter a few years working as an Independent Associate of Legal Shield, formerly known as Pre-Paid Legal, Yamil Fuentes made it her mission to help her clients take advantage of their access to the legal system. After going through her own personal divorce she realized there was a need of affordable divorce services in the State of Florida.\\nWhen she founded Apex Legal Document Preparation Services she became a Premium Member of the FALDP (Florida Association of Legal Document Preparers) and educated herself on the different types of divorce been offered across the State of Florida and learned from the best in the industry of legal document preparation services.\\nThrough her membership she embarked on a journey to learn how to make the divorce process as easy as possible for her clients, making her company the most sought after divorce preparer in Florida touting the following service 'Express Divorce - 30 Days with No Court Hearing'.\\nApex has now divorced hundreds of people.\\nPassionate about divorcing people in the quickest and less painful manner. She has mastered the art of preparing any type of divorce in the State of Florida. Many of her clients are in the South Florida area but she is not limited to these clients.\""
            ],
            "application/vnd.google.colaboratory.intrinsic+json": {
              "type": "string"
            }
          },
          "metadata": {},
          "execution_count": 27
        }
      ]
    },
    {
      "cell_type": "code",
      "source": [
        "sents = []\n",
        "from nltk.tokenize import sent_tokenize\n",
        "nltk.download('punkt')\n",
        "for para in paras:\n",
        "  sents.extend(sent_tokenize(para))\n",
        "sents[0]"
      ],
      "metadata": {
        "colab": {
          "base_uri": "https://localhost:8080/",
          "height": 71
        },
        "id": "zq93Q5GEsiCe",
        "outputId": "262dd719-5818-4e8b-a112-72bcf7f46cfa"
      },
      "execution_count": 28,
      "outputs": [
        {
          "output_type": "stream",
          "name": "stdout",
          "text": [
            "[nltk_data] Downloading package punkt to /root/nltk_data...\n",
            "[nltk_data]   Unzipping tokenizers/punkt.zip.\n"
          ]
        },
        {
          "output_type": "execute_result",
          "data": {
            "text/plain": [
              "'Documents Assist\\n\\nFlorida Cheap Divorce - Simple Divorce $280 flat fee - No Court Divorce\\nEstablished in 2006.'"
            ],
            "application/vnd.google.colaboratory.intrinsic+json": {
              "type": "string"
            }
          },
          "metadata": {},
          "execution_count": 28
        }
      ]
    },
    {
      "cell_type": "code",
      "source": [
        "train_data = sents[:int(len(sents)*0.2)]\n",
        "test_data = sents[int(len(sents)*0.2):int(len(sents)*0.25)]"
      ],
      "metadata": {
        "id": "Is5tu7q0tbcE"
      },
      "execution_count": 29,
      "outputs": []
    },
    {
      "cell_type": "code",
      "source": [
        "train_labels = []\n",
        "for sent in train_data:\n",
        "  train_labels.append(new_subtree_matcher1(sent))"
      ],
      "metadata": {
        "id": "1qANdH9Xumik"
      },
      "execution_count": 30,
      "outputs": []
    },
    {
      "cell_type": "code",
      "source": [
        "test_labels = []\n",
        "for sent in test_data:\n",
        "  test_labels.append(new_subtree_matcher1(sent))"
      ],
      "metadata": {
        "id": "jGc4OYwjv6pA"
      },
      "execution_count": 31,
      "outputs": []
    },
    {
      "cell_type": "code",
      "source": [
        "for i in range(400,500):\n",
        "  if train_labels[i] != ('','',''):\n",
        "    print(\"Text:\", train_data[i])\n",
        "    print(\"Relation:\", train_labels[i])\n",
        "    print()"
      ],
      "metadata": {
        "colab": {
          "base_uri": "https://localhost:8080/"
        },
        "id": "97CrOKWPxb4Y",
        "outputId": "fe072d6f-3afb-422d-cb55-11596617c29d"
      },
      "execution_count": 36,
      "outputs": [
        {
          "output_type": "stream",
          "name": "stdout",
          "text": [
            "Text: The mathematical properties of the catenary curve were first studied by Robert Hooke in the 1670s, and its equation was derived by Leibniz, Huygens and Johann Bernoulli in 1691.\n",
            "Relation: ('1691', 'studied', 'equation')\n",
            "\n",
            "Text: She was born in Edmundston, New Brunswick.\n",
            "Relation: ('Edmundston', 'born', 'She')\n",
            "\n",
            "Text: She has lived in Moncton since the 1970s.\n",
            "Relation: ('She', 'lived', '1970s')\n",
            "\n",
            "Text: Couturier has also worked as a script writer and researcher for Radio-Canada.\n",
            "Relation: ('Couturier', 'worked', 'Canada')\n",
            "\n",
            "Text: He was born (1944) and raised in Downers Grove, IL.\n",
            "Relation: ('Grove', 'born', 'He')\n",
            "\n",
            "Text: He was born in Orkanger as a son of a builder.\n",
            "Relation: ('builder', 'born', 'He')\n",
            "\n",
            "Text: He worked as a laborer until 1923, first at a sawmill, then as a carpenter.\n",
            "Relation: ('He', 'worked', 'carpenter')\n",
            "\n"
          ]
        }
      ]
    }
  ]
}